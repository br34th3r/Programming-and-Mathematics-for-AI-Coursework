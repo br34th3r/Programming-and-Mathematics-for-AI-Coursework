{
 "cells": [
  {
   "cell_type": "markdown",
   "metadata": {},
   "source": [
    "# Programming and Mathematics for AI\n",
    "## Coursework\n",
    "\n",
    "This notebook contains all solutions annotated via markdown for the Programming and Mathematics for AI coursework."
   ]
  },
  {
   "cell_type": "code",
   "execution_count": 746,
   "metadata": {},
   "outputs": [],
   "source": [
    "# Imports for the whole project\n",
    "import math\n",
    "import numpy as np\n",
    "import pandas as pd\n",
    "import matplotlib as mp\n",
    "from collections import defaultdict"
   ]
  },
  {
   "cell_type": "markdown",
   "metadata": {},
   "source": [
    "## Task 1\n",
    "\n",
    "The first task tests your Python skills. You need to develop a simple game consisting of a rectangular grid (of size height x width ) where each cell has a random integer value between 0 and 9. An agent starts at the upper-left corner of the grid and must reach the lower-right corner of the grid as fast as possible.\n",
    "\n",
    "You can implement one of the two (or both, for no extra point) game modes:\n",
    "- The time spent on a cell is the number on this cell\n",
    "- The time spent on a cell is the absolute of the difference between the previous cell the agent was on and the current cell it is on\n",
    "\n",
    "In order to solve this problem, you will provide 3 algorithms:\n",
    "- A first baseline of your choosing. E.g. it can be any search algorithm, or an algorithm using heuristics. It doesn’t have to perform fast or well, but should be better than random movements.\n",
    "- Dijkstra's algorithm\n",
    "- Ant colony optimization algorithm\n",
    "\n",
    "You should describe the algorithms and compare them. Are they always solving the problem? How long do they take depending on the size of the maze?"
   ]
  },
  {
   "cell_type": "markdown",
   "metadata": {},
   "source": [
    "## Creating the Game Board\n",
    "\n",
    "I have separated some functions for the creation of the game board as a numpy array, as well as the getNeighbours function as it can be used in both Dijkstra's Algorithm and in the A* pathfinding algorithm (as they are very similar). If you were to work under the assumption that the h() function were always equal to 0, the two algorithms would function the same."
   ]
  },
  {
   "cell_type": "code",
   "execution_count": 747,
   "metadata": {},
   "outputs": [],
   "source": [
    "def defineGrid(width, height):\n",
    "    return np.random.randint(10, size=(width, height))\n",
    "\n",
    "# Defined here as returning all neighbours can be used\n",
    "# with Dijkstra's Algorithm and with A* Pathfinding\n",
    "def getNeighbours(current, width, height):\n",
    "    neighbours = [\n",
    "        (current[0], current[1] + 1),\n",
    "        (current[0], current[1] - 1),\n",
    "        (current[0] + 1, current[1]),\n",
    "        (current[0] - 1, current[1])\n",
    "    ]\n",
    "    neighbours = [x for x in neighbours if (-1 not in x and x[0] < height and x[1] < width)]\n",
    "    return neighbours"
   ]
  },
  {
   "cell_type": "markdown",
   "metadata": {},
   "source": [
    "## Baseline\n",
    "\n",
    "In this baseline approach, the algorithm is only choosing values either to it's right or beneath it in order to progress towards the end point in the bottom right of the board. It will detect if it is at the edge of the board on either side at which point it will only move in the direction available. Slightly better than random movements as there is no likelihood for backtracking, however still not as efficient as possible as it cannot move up and around larger numbers in order to avoid high influences on the overall time as well as it does not consider the overall best route and will just take the smallest number between the right and bottom movements, meaning it could make a move right to increase time by 1, but then be forced by the edge to move down through many large numbers, not necessarily very efficient. As such I believe it to be a suitable baseline for this task."
   ]
  },
  {
   "cell_type": "code",
   "execution_count": 748,
   "metadata": {
    "scrolled": false
   },
   "outputs": [],
   "source": [
    "def newPos(grid, x, y, width, height):\n",
    "    if(x + 1 > width - 1):\n",
    "        return (y + 1, x)\n",
    "    elif(y + 1 > height - 1):\n",
    "        return (y, x + 1)\n",
    "    elif(grid[y][x + 1] >= grid[y + 1][x]):\n",
    "        return (y + 1, x)\n",
    "    else:\n",
    "        return (y, x + 1)\n",
    "\n",
    "def runBaseline(grid, width, height):\n",
    "    pos = (0, 0)\n",
    "    steps = []\n",
    "    steps.append((pos, grid[pos[0], pos[1]]))\n",
    "    while((pos[0] + 1, pos[1] + 1) != grid.shape):\n",
    "        pos = newPos(grid, pos[1], pos[0], width, height)\n",
    "        steps.append(((pos[0], pos[1]), grid[pos[0], pos[1]]))\n",
    "    return steps, sum([grid[x[0], x[1]] for x in steps])"
   ]
  },
  {
   "cell_type": "markdown",
   "metadata": {},
   "source": [
    "## Dijkstra's Algorithm\n",
    "\n",
    "Dijkstra's algorithm implemented below allows for movement up and down as well as back tracking through previous values to adjust and to make sure it is taking the optimal route by testing the distance from the starting point through to the ending point along a number of routes. In a sense it is somewhat of a brute force method and so is generally slower than more optimal algorithms, however still efficient at finding the correct route! It will alter these values in a dictionary of distances that allow it to optimise over time and find the shortest possible route, however this is almost a brute force method as it checks every possible node for it's distance from the starting point to the end point. Not as fast as something like the algorithm above but much more accurate."
   ]
  },
  {
   "cell_type": "code",
   "execution_count": 749,
   "metadata": {},
   "outputs": [],
   "source": [
    "def generateNodes(width, height):\n",
    "    nodes = []\n",
    "    for i in range(0, height):\n",
    "        for j in range(0, width):\n",
    "            nodes.append((i, j))\n",
    "    return nodes\n",
    "\n",
    "def generateDistances(nodes):\n",
    "    distances = {}\n",
    "    for node in nodes:\n",
    "        if node == (0, 0):\n",
    "            distances[node] = 0\n",
    "        else:\n",
    "            distances[node] = math.inf\n",
    "    return distances\n",
    "\n",
    "def generatePrevious(nodes):\n",
    "    previous = {}\n",
    "    for node in nodes:\n",
    "        previous[node] = None\n",
    "    return previous\n",
    "\n",
    "def getSmallestDist(nodes, dist):\n",
    "    low = math.inf\n",
    "    for node in nodes:\n",
    "        if(dist[node] < low):\n",
    "            low = dist[node]\n",
    "            pos = node\n",
    "    return pos\n",
    "\n",
    "def backtrack(current, prev):\n",
    "    path = []\n",
    "    total = 0\n",
    "    while current != None:\n",
    "        path.append((current, grid[current[0], current[1]]))\n",
    "        total += grid[current[0], current[1]]\n",
    "        current = prev[current]\n",
    "    return path[::-1], total\n",
    "\n",
    "def runDijkstra(grid, width, height):\n",
    "    nodes = generateNodes(width, height)\n",
    "    dist = generateDistances(nodes)\n",
    "    prev = generatePrevious(nodes)\n",
    "    while nodes:\n",
    "        current = getSmallestDist(nodes, dist)\n",
    "        nodes.remove(current)\n",
    "        for neighbour in getNeighbours(current, width, height):\n",
    "            alt = dist[current] + grid[neighbour[0], neighbour[1]]\n",
    "            if alt < dist[neighbour]:\n",
    "                dist[neighbour] = alt\n",
    "                prev[neighbour] = current\n",
    "    return backtrack(current, prev)"
   ]
  },
  {
   "cell_type": "markdown",
   "metadata": {},
   "source": [
    "## A* Pathfinding Algorithm"
   ]
  },
  {
   "cell_type": "code",
   "execution_count": 750,
   "metadata": {},
   "outputs": [],
   "source": [
    "def getDistance(node1, node2):\n",
    "    posVector = tuple(map(lambda pos1, pos2: abs(pos1 - pos2), node1, node2))\n",
    "    return math.pow(posVector[0], 2) + math.pow(posVector[1], 2)\n",
    "\n",
    "def g(startNode, currentNode, grid):\n",
    "    return getDistance(startNode, currentNode)\n",
    "\n",
    "def h(currentNode, endNode):\n",
    "    return getDistance(currentNode, endNode)\n",
    "\n",
    "def f(G, H):\n",
    "    return G + H\n",
    "\n",
    "def reconstructPath(cameFrom, current):\n",
    "    path = []\n",
    "    total = 0\n",
    "    while current in cameFrom.keys():\n",
    "        path.append((current, grid[current[0], current[1]]))\n",
    "        total += grid[current[0], current[1]]\n",
    "        current = cameFrom[current]\n",
    "    path.append(((0, 0), grid[0, 0]))\n",
    "    total += grid[0, 0]\n",
    "    return path[::-1], total\n",
    "\n",
    "def getSmallestFScore(op, fScore):\n",
    "    low = math.inf\n",
    "    pos = None\n",
    "    for node in op:\n",
    "        if(fScore[node] < low):\n",
    "            low = fScore[node]\n",
    "            pos = node\n",
    "    return pos\n",
    "    \n",
    "def runAStarPathfinding(width, height, grid, weight):\n",
    "    start = (0, 0)\n",
    "    end = (height - 1, width - 1)\n",
    "    \n",
    "    op = [start]\n",
    "    cameFrom = {}\n",
    "\n",
    "    gScore = {}\n",
    "    gScore = defaultdict(lambda: math.inf, gScore)\n",
    "    gScore[start] = 0\n",
    "\n",
    "    fScore = {}\n",
    "    fScore = defaultdict(lambda: math.ind, fScore)\n",
    "    fScore[start] = h(start, end)\n",
    "    \n",
    "    while op:\n",
    "        current = getSmallestFScore(op, fScore)\n",
    "        if(current == end):\n",
    "            return reconstructPath(cameFrom, current)\n",
    "        op.remove(current)\n",
    "        for child in getNeighbours(current, width, height):\n",
    "            tentGScore = gScore[current] + ((1 / weight) * grid[child[0], child[1]])\n",
    "            if(tentGScore < gScore[child]):\n",
    "                cameFrom[child] = current\n",
    "                gScore[child] = tentGScore\n",
    "                fScore[child] = tentGScore + h(child, end)\n",
    "                if(child not in op):\n",
    "                    op.append(child)\n",
    "    return Exception(\"Failure\")"
   ]
  },
  {
   "cell_type": "markdown",
   "metadata": {},
   "source": [
    "## Testing of Accuracy"
   ]
  },
  {
   "cell_type": "code",
   "execution_count": 758,
   "metadata": {},
   "outputs": [
    {
     "name": "stdout",
     "output_type": "stream",
     "text": [
      "Weight: 1, True: 0\n",
      "Weight: 2, True: 1\n",
      "Weight: 3, True: 5\n",
      "Weight: 4, True: 4\n",
      "Weight: 5, True: 2\n",
      "Weight: 6, True: 2\n",
      "Weight: 7, True: 2\n",
      "Weight: 8, True: 3\n",
      "Weight: 9, True: 2\n",
      "Weight: 10, True: 3\n",
      "Weight: 11, True: 3\n",
      "Weight: 12, True: 2\n",
      "Weight: 13, True: 1\n",
      "Weight: 14, True: 4\n",
      "Weight: 15, True: 3\n",
      "Weight: 16, True: 3\n",
      "Weight: 17, True: 2\n",
      "Weight: 18, True: 4\n",
      "Weight: 19, True: 2\n",
      "Weight: 20, True: 4\n"
     ]
    }
   ],
   "source": [
    "maxWeight = 20\n",
    "iterations = 10\n",
    "\n",
    "validity = []\n",
    "\n",
    "for weight in range(1, maxWeight + 1):\n",
    "    validity.append([])\n",
    "    for i in range(0, iterations):\n",
    "        width = 10\n",
    "        height = 10\n",
    "        grid = defineGrid(width, height)\n",
    "        baseline = runBaseline(grid, width, height)\n",
    "        dijkstra = runDijkstra(grid, width, height)\n",
    "        aStar = runAStarPathfinding(width, height, grid, 1 / weight)\n",
    "        validity[weight - 1].append(aStar == dijkstra)\n",
    "\n",
    "data = np.array(validity, dtype=np.bool)\n",
    "for i, group in enumerate(data):\n",
    "    weight = i + 1\n",
    "    print(\"Weight: %i, True: %i\" % (weight, np.sum(group)))"
   ]
  },
  {
   "cell_type": "code",
   "execution_count": null,
   "metadata": {},
   "outputs": [],
   "source": []
  }
 ],
 "metadata": {
  "kernelspec": {
   "display_name": "Python 3",
   "language": "python",
   "name": "python3"
  },
  "language_info": {
   "codemirror_mode": {
    "name": "ipython",
    "version": 3
   },
   "file_extension": ".py",
   "mimetype": "text/x-python",
   "name": "python",
   "nbconvert_exporter": "python",
   "pygments_lexer": "ipython3",
   "version": "3.8.3"
  }
 },
 "nbformat": 4,
 "nbformat_minor": 4
}
